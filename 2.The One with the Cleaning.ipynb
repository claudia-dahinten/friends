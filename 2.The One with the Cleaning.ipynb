{
 "cells": [
  {
   "cell_type": "code",
   "execution_count": 1,
   "metadata": {},
   "outputs": [],
   "source": [
    "import pandas as pd\n",
    "import numpy as np"
   ]
  },
  {
   "cell_type": "code",
   "execution_count": 2,
   "metadata": {},
   "outputs": [],
   "source": [
    "lines = pd.read_csv ('1_lines.csv')"
   ]
  },
  {
   "cell_type": "code",
   "execution_count": 3,
   "metadata": {},
   "outputs": [
    {
     "data": {
      "text/html": [
       "<div>\n",
       "<style scoped>\n",
       "    .dataframe tbody tr th:only-of-type {\n",
       "        vertical-align: middle;\n",
       "    }\n",
       "\n",
       "    .dataframe tbody tr th {\n",
       "        vertical-align: top;\n",
       "    }\n",
       "\n",
       "    .dataframe thead th {\n",
       "        text-align: right;\n",
       "    }\n",
       "</style>\n",
       "<table border=\"1\" class=\"dataframe\">\n",
       "  <thead>\n",
       "    <tr style=\"text-align: right;\">\n",
       "      <th></th>\n",
       "      <th>0</th>\n",
       "      <th>lines</th>\n",
       "    </tr>\n",
       "  </thead>\n",
       "  <tbody>\n",
       "    <tr>\n",
       "      <td>0</td>\n",
       "      <td>Online Store</td>\n",
       "      <td>F.D. » Transcripts » TV Show Transcripts » F »...</td>\n",
       "    </tr>\n",
       "    <tr>\n",
       "      <td>1</td>\n",
       "      <td>Online Store</td>\n",
       "      <td>'Tis the Season! We're officially a verified a...</td>\n",
       "    </tr>\n",
       "    <tr>\n",
       "      <td>2</td>\n",
       "      <td>Online Store</td>\n",
       "      <td>Feed the kitteh</td>\n",
       "    </tr>\n",
       "    <tr>\n",
       "      <td>3</td>\n",
       "      <td>Online Store</td>\n",
       "      <td>F.D. » Transcripts » TV Show Transcripts » F »...</td>\n",
       "    </tr>\n",
       "    <tr>\n",
       "      <td>4</td>\n",
       "      <td>Online Store</td>\n",
       "      <td>© 2001-2020 Forever Dreaming. All rights reser...</td>\n",
       "    </tr>\n",
       "  </tbody>\n",
       "</table>\n",
       "</div>"
      ],
      "text/plain": [
       "              0                                              lines\n",
       "0  Online Store  F.D. » Transcripts » TV Show Transcripts » F »...\n",
       "1  Online Store  'Tis the Season! We're officially a verified a...\n",
       "2  Online Store                                    Feed the kitteh\n",
       "3  Online Store  F.D. » Transcripts » TV Show Transcripts » F »...\n",
       "4  Online Store  © 2001-2020 Forever Dreaming. All rights reser..."
      ]
     },
     "execution_count": 3,
     "metadata": {},
     "output_type": "execute_result"
    }
   ],
   "source": [
    "lines.head()"
   ]
  },
  {
   "cell_type": "code",
   "execution_count": 4,
   "metadata": {},
   "outputs": [],
   "source": [
    "def create_columns(df):\n",
    "    \"\"\" \n",
    "    Extracts character names, converts them to lower case and creates a new character column,\n",
    "    Deletes character names from lines and\n",
    "    Creates column for title of episode\n",
    "    \"\"\"\n",
    "    df['character'] = df['lines'].str.extract(r\"((\\bMR?S?\\b.? ?|\\bMrs?\\b.? ?|\\bMs\\b.? ?|\\bDR.? \\b|\\bDr.? \\b)?\\b[A-Z][A-Za-z]+)\")[0]\n",
    "    df['clean_lines'] = df['lines'].str.extract(r\"(: .*)\")\n",
    "    df['character_lower'] = df[\"character\"].str.lower()\n",
    "    df['title'] = df['0'].str.extract(r\"((\\d\\d?)x(\\d\\d?)) - (.*)\")[3]\n",
    "    \n",
    "    return df"
   ]
  },
  {
   "cell_type": "code",
   "execution_count": 5,
   "metadata": {},
   "outputs": [],
   "source": [
    "lines = create_columns(lines)"
   ]
  },
  {
   "cell_type": "code",
   "execution_count": 6,
   "metadata": {},
   "outputs": [],
   "source": [
    "def episode_cleaner(df):\n",
    "    \"\"\"\n",
    "    Identifies episode pattern in title, then creates own column for episode and season # and\n",
    "    Creates a new column for episode length (double/ single)\n",
    "    \"\"\"\n",
    "    \n",
    "    pattern = lines['0'].str.extract(r\"((\\d\\d?)x(\\d\\d?) - ((\\d\\d?)x(\\d\\d?))?)\")\n",
    "    lines['season'] = pattern[1]\n",
    "    lines['episode'] = pattern[2]\n",
    "    \n",
    "    double = lines[pattern[5].notnull()]\n",
    "    single = lines[pattern[5].isna()]\n",
    "    double.insert(7, 'length', ['double']*double.shape[0], True)\n",
    "    single.insert(7, \"length\", ['single']*single.shape[0], True)\n",
    "    \n",
    "    return pd.concat([double, single]).sort_index()"
   ]
  },
  {
   "cell_type": "code",
   "execution_count": 7,
   "metadata": {},
   "outputs": [],
   "source": [
    "lines = episode_cleaner(lines)"
   ]
  },
  {
   "cell_type": "code",
   "execution_count": 8,
   "metadata": {},
   "outputs": [],
   "source": [
    "#delete marketing and irrelevant lines\n",
    "lines = lines[(lines['0'] != 'Online Store')  & (lines['0'] != 'Board Updates: Please Read 8/26/19')].reset_index(drop = True)"
   ]
  },
  {
   "cell_type": "code",
   "execution_count": 9,
   "metadata": {},
   "outputs": [
    {
     "data": {
      "text/plain": [
       "array([nan, '02x13 - The One After the Superbowl',\n",
       "       '04x24 - The One With Ross’s Wedding Parts I and II',\n",
       "       '05x24 - The One In Vegas', '06x16 - The One That Could Have Been',\n",
       "       '06x25 - The One With The Proposal',\n",
       "       '07x24 - The One With Chandler and Monica’s Wedding',\n",
       "       '08x24 - The One Where Rachel Has A Baby',\n",
       "       '09x24 - The One In Barbados', '10x18 -  The Last One (Finale)'],\n",
       "      dtype=object)"
      ]
     },
     "execution_count": 9,
     "metadata": {},
     "output_type": "execute_result"
    }
   ],
   "source": [
    "#a handfull of episodes were not picked up in the previous cleaning step\n",
    "lines.title.str.extract(r\"(\\d\\d?x\\d\\d? - .*)\")[0].unique()"
   ]
  },
  {
   "cell_type": "code",
   "execution_count": 10,
   "metadata": {},
   "outputs": [],
   "source": [
    "#clean titles manually\n",
    "lines.title.replace('02x13 - The One After the Superbowl', 'The One After the Superbowl', inplace = True)\n",
    "lines.title.replace('04x24 - The One With Ross’s Wedding Parts I and II', 'The One With Ross’s Wedding Parts I and II', inplace = True)\n",
    "lines.title.replace('05x24 - The One In Vegas', 'The One In Vegas', inplace = True)\n",
    "lines.title.replace('06x16 - The One That Could Have Been',  'The One That Could Have Been', inplace = True)\n",
    "lines.title.replace('06x25 - The One With The Proposal', 'The One With The Proposal', inplace = True)\n",
    "lines.title.replace('07x24 - The One With Chandler and Monica’s Wedding', 'The One With Chandler and Monica’s Wedding', inplace = True)\n",
    "lines.title.replace('08x24 - The One Where Rachel Has A Baby', 'The One Where Rachel Has A Baby', inplace = True)\n",
    "lines.title.replace('09x24 - The One In Barbados', 'The One In Barbados', inplace = True)\n",
    "lines.title.replace('10x18 -  The Last One (Finale)', 'The Last One (Finale)', inplace = True)"
   ]
  },
  {
   "cell_type": "code",
   "execution_count": 11,
   "metadata": {},
   "outputs": [],
   "source": [
    "lines = lines.drop(columns = ['0', 'lines','character'])"
   ]
  },
  {
   "cell_type": "code",
   "execution_count": 12,
   "metadata": {},
   "outputs": [],
   "source": [
    "#characters: only those referred to by name\n",
    "#if more than one person spoke at once, then delete\n",
    "#create a list of non characters in the character column\n",
    "not_chars = [\n",
    "            'transcripts', 'tis', 'feed', 'forever', 'as', 'thank', 'if','originally', 'the', 'cut','enter', \n",
    "             'they', 'moment', 'scene',  'knock', 'ad', 'tv', 'exit', 'pause', 'closing', 'credits',  'at', \n",
    "             'again', 'stunned','intro', 'door', 'opens', 'general', 'silence', 'dubious', 'uncomfortable',\n",
    "             'pizza', 'hospital', 'balcony', 'both', 'phone', 'end', 'long', 'opening', 'commercial', 'lights',\n",
    "             'aurora', 'flashback', 'director', 'heck', 'while', 'time', 'there', 'written',  'short', 'bladder',\n",
    "             'fun', 'next',  'coma', 'camera', 'transcribed', 'so', 'microwave', 'iris', 'timer', 'pre', 'same',\n",
    "             'intercom', 'another', 'in', 'quick', 'music', 'fake', 'casting', 'story', 'frnz', 'meln', 'melanie',\n",
    "             'flgt', 'man', 'voice', 'carl', 'chinese', 'store', 'outside', 'old', 'machine', 'central',\n",
    "             'transit', 'rtst', 'radio', 'gang', 'gives', 'fbob', 'estl', 'three', 'wedding', 'lipson', 'some',\n",
    "             'security', 'trainer', 'susie', 'van', 'back', 'looks', 'note', 'now', 'since', 'delivery', 'tattoo',\n",
    "             'amger', 'big', 'little',  'once', 'annoying', 'starts', 'best', 'video', 'young', 'transcriber', \n",
    "             'baywatch', 'mattress', 'matress', 'margha', 'sequence', 'it',  'we', 'cookie', 'things', 'quartet',\n",
    "             'bass', 'to', 'hearing', 'later', 'hypnosis', 'of', 'hold', 'awkward', 'stage', 'guru', 'two',\n",
    "             'tank', 'chip',  'oven', 'gym', 'this', 'bank','suddenly', 'from', 'after', 'kitchen', 'happy', \n",
    "             'original', 'uh', 'see', 'tour', 'onstage',  'just',  'teleplay', 'devon', 'ticket', 'goes', 'yep',\n",
    "             'seeing', 'sleep', 'and', 'with', 'part', 'one', 'drunk', 'gate', 'ending', 'pbs',  'hotel',\n",
    "             'health', 'notices', 'thanksgiving', 'present', 'past', 'fat', 'upon', 'french', 'follows', 'shows',\n",
    "             'no', 'hits', 'neither', 'needless', 'sleepy', 'yeah', 'check', 'party', 'dream', 'for', 'answering',\n",
    "             'but', 'oh', 'casino', 'blackjack', 'drunken', 'cue', 'transciber', 'pan', 'croupler', 'applause',\n",
    "             'decided', 'passerby', 'kisses', 'inside','tall', 'when', 'patron',  'hope', 'eldad', 'thus',\n",
    "             'what', 'first', 'second', 'matire', 'walks', 'whenever', 'exits', 'more', 'maitre', 'smoke',\n",
    "             'disembodied', 'morse', 'finally', 'fade', 'flash', 'behind', 'dedicated', 'front', 'anxious'\n",
    "             'airline', 'six', 'dramatic', 'kash', 'basically', 'doorbell', 'don', 'various', 'during', 'evil',\n",
    "             'sick', 'cuts',  'prospective', 'directed',  'starting', 'beat', 'clink', 'rattling', 'shuts',\n",
    "             'reaches', 'bar', 'uneasy',  'went', 'did', 'shortly', 'surprised', 'ok', 'extra', 'aired', 'very'\n",
    "             'potluck', 'is', 'salon', 'hey', 'blonde', 'delta', 'about', 'who', 'always', 'points', 'meanwhile',\n",
    "             'everybody', 'hugsy', 'strange', 'message', 'bitter', 'turns', 'shop', 'trying', 'switch',\n",
    "             'precious', 'does', 'sound', 'supposedly', 'lifts',  'charity', 'agency', 'adoption',  'tainted',\n",
    "             'can', 'tape', 'air', 'anxious', 'very', 'potluck', 'all', 'waitress', 'boys', 'receptionist', 'kid',\n",
    "             'angl', 'woman', 'she', 'aunt', 'nurse', 'guy', 'girl', 'customer', 'guys', 'girls', 'her', 'pa', \n",
    "             'actor', 'stranger', 'waiter', 'doctor', 'together', 'minister', 'interviewer', 'friend', 'producer',\n",
    "             'everyone', 'host', 'student', 'leader', 'singer', 'lecturer', 'anchorwoman', 'announcer', 'referee',\n",
    "             'minster', 'male', 'female', 'guest', 'cop', 'tourist', 'attendant', 'hitchhiker', 'crew', 'customers',\n",
    "             'narrator', 'you', 'supervisor', 'policeman', 'airline', 'witch', 'clown', 'cowgirl', 'ballerina',\n",
    "             'boy', 'stripper', 'hooker', 'locksmith', 'uncle', 'cashier', 'assistant', 'others', 'intern',\n",
    "             'handyman', 'actress', 'prof', 'paleontologist', 'professore', 'realtor', 'clerk', 'mr', 'lady'\n",
    "            ]\n",
    "                        "
   ]
  },
  {
   "cell_type": "code",
   "execution_count": 13,
   "metadata": {},
   "outputs": [],
   "source": [
    "#filter for only characters in character column\n",
    "lines = lines[~lines['character_lower'].isin(not_chars)].reset_index(drop = True)"
   ]
  },
  {
   "cell_type": "code",
   "execution_count": 14,
   "metadata": {},
   "outputs": [
    {
     "data": {
      "text/plain": [
       "[': Come on! You guys can pee standing up.',\n",
       " ': [waitressing] Does anybody want anything else?',\n",
       " \": It's my father. He wants to give me a Mercedes convertible.\",\n",
       " \": Yeah, well, it's a Mercedes if I move back home. Oh, it was horrible. He called me young lady.\",\n",
       " ': Oh, yeah, yeah. Actually, I got the extended disco version, with three choruses of \"You\\'ll never make it on your own\".',\n",
       " ': Oh, big glamour night. Me and Monica at Laundorama.',\n",
       " ': Who?',\n",
       " \": Don't you have a laundry room in your building?\",\n",
       " ': Sure.',\n",
       " \": Oh, 'scuse me. I was kinda using that machine.\"]"
      ]
     },
     "execution_count": 14,
     "metadata": {},
     "output_type": "execute_result"
    }
   ],
   "source": [
    "#some main character names are mispellt\n",
    "list(lines[lines['character_lower']== 'rach']['clean_lines'][:10])"
   ]
  },
  {
   "cell_type": "code",
   "execution_count": 15,
   "metadata": {},
   "outputs": [],
   "source": [
    "def name_changer(df):\n",
    "    \"\"\"\n",
    "    Correct mispelled main character names\n",
    "    \"\"\"\n",
    "    df.replace('mnca', 'monica', inplace = True)\n",
    "    df.replace('rach', 'rachel', inplace = True)\n",
    "    df.replace('rahcel', 'rachel', inplace = True)\n",
    "    df.replace('rache', 'rachel', inplace = True)\n",
    "    df.replace('racel', 'rachel', inplace = True)\n",
    "    df.replace('chan', 'chandler', inplace = True)\n",
    "    df.replace('chandlers', 'chandler', inplace = True)\n",
    "    df.replace('phoe', 'phoebe', inplace = True)\n",
    "    df.replace('phobe', 'phoebe', inplace = True)\n",
    "    df.replace('jnce', 'janice', inplace = True)\n",
    "    df.clean_lines = df.clean_lines.str.replace(': ', '')\n",
    "    df.character_lower = df.character_lower.str.replace('.', '')\n",
    "    \n",
    "    return df.copy()\n"
   ]
  },
  {
   "cell_type": "code",
   "execution_count": 16,
   "metadata": {},
   "outputs": [
    {
     "data": {
      "text/html": [
       "<div>\n",
       "<style scoped>\n",
       "    .dataframe tbody tr th:only-of-type {\n",
       "        vertical-align: middle;\n",
       "    }\n",
       "\n",
       "    .dataframe tbody tr th {\n",
       "        vertical-align: top;\n",
       "    }\n",
       "\n",
       "    .dataframe thead th {\n",
       "        text-align: right;\n",
       "    }\n",
       "</style>\n",
       "<table border=\"1\" class=\"dataframe\">\n",
       "  <thead>\n",
       "    <tr style=\"text-align: right;\">\n",
       "      <th></th>\n",
       "      <th>clean_lines</th>\n",
       "      <th>character_lower</th>\n",
       "      <th>title</th>\n",
       "      <th>season</th>\n",
       "      <th>length</th>\n",
       "      <th>episode</th>\n",
       "    </tr>\n",
       "  </thead>\n",
       "  <tbody>\n",
       "    <tr>\n",
       "      <td>0</td>\n",
       "      <td>There's nothing to tell! He's just some guy I ...</td>\n",
       "      <td>monica</td>\n",
       "      <td>The One Where Monica Gets a New Roommate (The ...</td>\n",
       "      <td>01</td>\n",
       "      <td>single</td>\n",
       "      <td>01</td>\n",
       "    </tr>\n",
       "    <tr>\n",
       "      <td>1</td>\n",
       "      <td>C'mon, you're going out with the guy! There's ...</td>\n",
       "      <td>joey</td>\n",
       "      <td>The One Where Monica Gets a New Roommate (The ...</td>\n",
       "      <td>01</td>\n",
       "      <td>single</td>\n",
       "      <td>01</td>\n",
       "    </tr>\n",
       "    <tr>\n",
       "      <td>2</td>\n",
       "      <td>So does he have a hump? A hump and a hairpiece?</td>\n",
       "      <td>chandler</td>\n",
       "      <td>The One Where Monica Gets a New Roommate (The ...</td>\n",
       "      <td>01</td>\n",
       "      <td>single</td>\n",
       "      <td>01</td>\n",
       "    </tr>\n",
       "    <tr>\n",
       "      <td>3</td>\n",
       "      <td>Wait, does he eat chalk?</td>\n",
       "      <td>phoebe</td>\n",
       "      <td>The One Where Monica Gets a New Roommate (The ...</td>\n",
       "      <td>01</td>\n",
       "      <td>single</td>\n",
       "      <td>01</td>\n",
       "    </tr>\n",
       "    <tr>\n",
       "      <td>4</td>\n",
       "      <td>Just, 'cause, I don't want her to go through w...</td>\n",
       "      <td>phoebe</td>\n",
       "      <td>The One Where Monica Gets a New Roommate (The ...</td>\n",
       "      <td>01</td>\n",
       "      <td>single</td>\n",
       "      <td>01</td>\n",
       "    </tr>\n",
       "    <tr>\n",
       "      <td>...</td>\n",
       "      <td>...</td>\n",
       "      <td>...</td>\n",
       "      <td>...</td>\n",
       "      <td>...</td>\n",
       "      <td>...</td>\n",
       "      <td>...</td>\n",
       "    </tr>\n",
       "    <tr>\n",
       "      <td>61253</td>\n",
       "      <td>NaN</td>\n",
       "      <td>chandler</td>\n",
       "      <td>The Last One (Finale)</td>\n",
       "      <td>10</td>\n",
       "      <td>double</td>\n",
       "      <td>17</td>\n",
       "    </tr>\n",
       "    <tr>\n",
       "      <td>61254</td>\n",
       "      <td>(crying) Do you guys have to go to the new hou...</td>\n",
       "      <td>rachel</td>\n",
       "      <td>The Last One (Finale)</td>\n",
       "      <td>10</td>\n",
       "      <td>double</td>\n",
       "      <td>17</td>\n",
       "    </tr>\n",
       "    <tr>\n",
       "      <td>61255</td>\n",
       "      <td>We got some time.</td>\n",
       "      <td>monica</td>\n",
       "      <td>The Last One (Finale)</td>\n",
       "      <td>10</td>\n",
       "      <td>double</td>\n",
       "      <td>17</td>\n",
       "    </tr>\n",
       "    <tr>\n",
       "      <td>61256</td>\n",
       "      <td>Okay, should we get some coffee?</td>\n",
       "      <td>rachel</td>\n",
       "      <td>The Last One (Finale)</td>\n",
       "      <td>10</td>\n",
       "      <td>double</td>\n",
       "      <td>17</td>\n",
       "    </tr>\n",
       "    <tr>\n",
       "      <td>61257</td>\n",
       "      <td>Sure. Where?</td>\n",
       "      <td>chandler</td>\n",
       "      <td>The Last One (Finale)</td>\n",
       "      <td>10</td>\n",
       "      <td>double</td>\n",
       "      <td>17</td>\n",
       "    </tr>\n",
       "  </tbody>\n",
       "</table>\n",
       "<p>61258 rows × 6 columns</p>\n",
       "</div>"
      ],
      "text/plain": [
       "                                             clean_lines character_lower  \\\n",
       "0      There's nothing to tell! He's just some guy I ...          monica   \n",
       "1      C'mon, you're going out with the guy! There's ...            joey   \n",
       "2        So does he have a hump? A hump and a hairpiece?        chandler   \n",
       "3                               Wait, does he eat chalk?          phoebe   \n",
       "4      Just, 'cause, I don't want her to go through w...          phoebe   \n",
       "...                                                  ...             ...   \n",
       "61253                                                NaN        chandler   \n",
       "61254  (crying) Do you guys have to go to the new hou...          rachel   \n",
       "61255                                  We got some time.          monica   \n",
       "61256                   Okay, should we get some coffee?          rachel   \n",
       "61257                                       Sure. Where?        chandler   \n",
       "\n",
       "                                                   title season  length  \\\n",
       "0      The One Where Monica Gets a New Roommate (The ...     01  single   \n",
       "1      The One Where Monica Gets a New Roommate (The ...     01  single   \n",
       "2      The One Where Monica Gets a New Roommate (The ...     01  single   \n",
       "3      The One Where Monica Gets a New Roommate (The ...     01  single   \n",
       "4      The One Where Monica Gets a New Roommate (The ...     01  single   \n",
       "...                                                  ...    ...     ...   \n",
       "61253                              The Last One (Finale)     10  double   \n",
       "61254                              The Last One (Finale)     10  double   \n",
       "61255                              The Last One (Finale)     10  double   \n",
       "61256                              The Last One (Finale)     10  double   \n",
       "61257                              The Last One (Finale)     10  double   \n",
       "\n",
       "      episode  \n",
       "0          01  \n",
       "1          01  \n",
       "2          01  \n",
       "3          01  \n",
       "4          01  \n",
       "...       ...  \n",
       "61253      17  \n",
       "61254      17  \n",
       "61255      17  \n",
       "61256      17  \n",
       "61257      17  \n",
       "\n",
       "[61258 rows x 6 columns]"
      ]
     },
     "execution_count": 16,
     "metadata": {},
     "output_type": "execute_result"
    }
   ],
   "source": [
    "name_changer(lines)"
   ]
  },
  {
   "cell_type": "code",
   "execution_count": 17,
   "metadata": {},
   "outputs": [
    {
     "name": "stdout",
     "output_type": "stream",
     "text": [
      "clean_lines        2853\n",
      "character_lower     649\n",
      "title                 0\n",
      "season                0\n",
      "length                0\n",
      "episode               0\n",
      "dtype: int64\n"
     ]
    }
   ],
   "source": [
    "#the nulls for clean_lines are stage directions so can delete these\n",
    "print(lines.isna().sum())\n",
    "lines.clean_lines.dropna(inplace = True)"
   ]
  },
  {
   "cell_type": "code",
   "execution_count": 18,
   "metadata": {},
   "outputs": [],
   "source": [
    "#drop missing values\n",
    "lines = lines.dropna().reset_index(drop=True)"
   ]
  },
  {
   "cell_type": "code",
   "execution_count": 19,
   "metadata": {},
   "outputs": [],
   "source": [
    "#change order of columns\n",
    "lines = lines[['title', 'character_lower', 'clean_lines', 'season', 'episode', 'length']]"
   ]
  },
  {
   "cell_type": "code",
   "execution_count": 20,
   "metadata": {},
   "outputs": [],
   "source": [
    "#rename columns\n",
    "lines.rename(columns = {'character_lower': 'character', 'clean_lines':'lines'}, inplace = True)"
   ]
  },
  {
   "cell_type": "code",
   "execution_count": 21,
   "metadata": {},
   "outputs": [
    {
     "data": {
      "text/plain": [
       "\"(SCORNFUL) Grab a spoon. Do you know how long it's been since I've grabbed a spoon? Do the words 'Billy, don't be a hero' mean anything to you? Y'know, here's the thing. Even if I could get it together enough to- to ask a woman out,... who am I gonna ask? (GAZES OUT OF THE WINDOW)\""
      ]
     },
     "execution_count": 21,
     "metadata": {},
     "output_type": "execute_result"
    }
   ],
   "source": [
    "#look at a line. line includes stage directions, in parenthesis. these should be deleted.\n",
    "lines.lines[123]"
   ]
  },
  {
   "cell_type": "code",
   "execution_count": 22,
   "metadata": {},
   "outputs": [
    {
     "data": {
      "text/plain": [
       "\"Grab a spoon. Do you know how long it's been since I've grabbed a spoon? Do the words 'Billy, don't be a hero' mean anything to you? Y'know, here's the thing. Even if I could get it together enough to- to ask a woman out,... who am I gonna ask?\""
      ]
     },
     "execution_count": 22,
     "metadata": {},
     "output_type": "execute_result"
    }
   ],
   "source": [
    "#testing regex to delete everything within parenthesis\n",
    "lines.lines.str.replace(r'\\(.*?\\)', '').str.strip()[123]"
   ]
  },
  {
   "cell_type": "code",
   "execution_count": 23,
   "metadata": {},
   "outputs": [
    {
     "data": {
      "text/plain": [
       "0        There's nothing to tell! He's just some guy I ...\n",
       "1        C'mon, you're going out with the guy! There's ...\n",
       "2          So does he have a hump? A hump and a hairpiece?\n",
       "3                                 Wait, does he eat chalk?\n",
       "4        Just, 'cause, I don't want her to go through w...\n",
       "                               ...                        \n",
       "58400                              Oh, it's gonna be okay.\n",
       "58401    (crying) Do you guys have to go to the new hou...\n",
       "58402                                    We got some time.\n",
       "58403                     Okay, should we get some coffee?\n",
       "58404                                         Sure. Where?\n",
       "Name: lines, Length: 58405, dtype: object"
      ]
     },
     "execution_count": 23,
     "metadata": {},
     "output_type": "execute_result"
    }
   ],
   "source": [
    "#full df: parenthesis included\n",
    "lines.lines"
   ]
  },
  {
   "cell_type": "code",
   "execution_count": 24,
   "metadata": {},
   "outputs": [],
   "source": [
    "#remove everything within parenthesis - as there are actions not lines\n",
    "lines['lines'] = lines.lines.str.replace(r'\\(.*?\\)', '').str.strip()"
   ]
  },
  {
   "cell_type": "code",
   "execution_count": 25,
   "metadata": {},
   "outputs": [
    {
     "data": {
      "text/plain": [
       "0        There's nothing to tell! He's just some guy I ...\n",
       "1        C'mon, you're going out with the guy! There's ...\n",
       "2          So does he have a hump? A hump and a hairpiece?\n",
       "3                                 Wait, does he eat chalk?\n",
       "4        Just, 'cause, I don't want her to go through w...\n",
       "                               ...                        \n",
       "58400                              Oh, it's gonna be okay.\n",
       "58401    Do you guys have to go to the new house right ...\n",
       "58402                                    We got some time.\n",
       "58403                     Okay, should we get some coffee?\n",
       "58404                                         Sure. Where?\n",
       "Name: lines, Length: 58405, dtype: object"
      ]
     },
     "execution_count": 25,
     "metadata": {},
     "output_type": "execute_result"
    }
   ],
   "source": [
    "#full df: no more parenthesis\n",
    "lines.lines"
   ]
  },
  {
   "cell_type": "code",
   "execution_count": 26,
   "metadata": {},
   "outputs": [
    {
     "data": {
      "text/html": [
       "<div>\n",
       "<style scoped>\n",
       "    .dataframe tbody tr th:only-of-type {\n",
       "        vertical-align: middle;\n",
       "    }\n",
       "\n",
       "    .dataframe tbody tr th {\n",
       "        vertical-align: top;\n",
       "    }\n",
       "\n",
       "    .dataframe thead th {\n",
       "        text-align: right;\n",
       "    }\n",
       "</style>\n",
       "<table border=\"1\" class=\"dataframe\">\n",
       "  <thead>\n",
       "    <tr style=\"text-align: right;\">\n",
       "      <th></th>\n",
       "      <th>title</th>\n",
       "      <th>character</th>\n",
       "      <th>lines</th>\n",
       "      <th>season</th>\n",
       "      <th>episode</th>\n",
       "      <th>length</th>\n",
       "    </tr>\n",
       "  </thead>\n",
       "  <tbody>\n",
       "    <tr>\n",
       "      <td>0</td>\n",
       "      <td>The One Where Monica Gets a New Roommate (The ...</td>\n",
       "      <td>monica</td>\n",
       "      <td>There's nothing to tell! He's just some guy I ...</td>\n",
       "      <td>01</td>\n",
       "      <td>01</td>\n",
       "      <td>single</td>\n",
       "    </tr>\n",
       "    <tr>\n",
       "      <td>1</td>\n",
       "      <td>The One Where Monica Gets a New Roommate (The ...</td>\n",
       "      <td>joey</td>\n",
       "      <td>C'mon, you're going out with the guy! There's ...</td>\n",
       "      <td>01</td>\n",
       "      <td>01</td>\n",
       "      <td>single</td>\n",
       "    </tr>\n",
       "    <tr>\n",
       "      <td>2</td>\n",
       "      <td>The One Where Monica Gets a New Roommate (The ...</td>\n",
       "      <td>chandler</td>\n",
       "      <td>So does he have a hump? A hump and a hairpiece?</td>\n",
       "      <td>01</td>\n",
       "      <td>01</td>\n",
       "      <td>single</td>\n",
       "    </tr>\n",
       "    <tr>\n",
       "      <td>3</td>\n",
       "      <td>The One Where Monica Gets a New Roommate (The ...</td>\n",
       "      <td>phoebe</td>\n",
       "      <td>Wait, does he eat chalk?</td>\n",
       "      <td>01</td>\n",
       "      <td>01</td>\n",
       "      <td>single</td>\n",
       "    </tr>\n",
       "    <tr>\n",
       "      <td>4</td>\n",
       "      <td>The One Where Monica Gets a New Roommate (The ...</td>\n",
       "      <td>phoebe</td>\n",
       "      <td>Just, 'cause, I don't want her to go through w...</td>\n",
       "      <td>01</td>\n",
       "      <td>01</td>\n",
       "      <td>single</td>\n",
       "    </tr>\n",
       "  </tbody>\n",
       "</table>\n",
       "</div>"
      ],
      "text/plain": [
       "                                               title character  \\\n",
       "0  The One Where Monica Gets a New Roommate (The ...    monica   \n",
       "1  The One Where Monica Gets a New Roommate (The ...      joey   \n",
       "2  The One Where Monica Gets a New Roommate (The ...  chandler   \n",
       "3  The One Where Monica Gets a New Roommate (The ...    phoebe   \n",
       "4  The One Where Monica Gets a New Roommate (The ...    phoebe   \n",
       "\n",
       "                                               lines season episode  length  \n",
       "0  There's nothing to tell! He's just some guy I ...     01      01  single  \n",
       "1  C'mon, you're going out with the guy! There's ...     01      01  single  \n",
       "2    So does he have a hump? A hump and a hairpiece?     01      01  single  \n",
       "3                           Wait, does he eat chalk?     01      01  single  \n",
       "4  Just, 'cause, I don't want her to go through w...     01      01  single  "
      ]
     },
     "execution_count": 26,
     "metadata": {},
     "output_type": "execute_result"
    }
   ],
   "source": [
    "lines.head()"
   ]
  },
  {
   "cell_type": "code",
   "execution_count": 27,
   "metadata": {},
   "outputs": [
    {
     "data": {
      "text/plain": [
       "(58405, 6)"
      ]
     },
     "execution_count": 27,
     "metadata": {},
     "output_type": "execute_result"
    }
   ],
   "source": [
    "lines.shape"
   ]
  },
  {
   "cell_type": "code",
   "execution_count": 28,
   "metadata": {},
   "outputs": [],
   "source": [
    "lines.to_csv('2_clean_lines.csv', index = False)"
   ]
  }
 ],
 "metadata": {
  "kernelspec": {
   "display_name": "Python 3",
   "language": "python",
   "name": "python3"
  },
  "language_info": {
   "codemirror_mode": {
    "name": "ipython",
    "version": 3
   },
   "file_extension": ".py",
   "mimetype": "text/x-python",
   "name": "python",
   "nbconvert_exporter": "python",
   "pygments_lexer": "ipython3",
   "version": "3.7.4"
  },
  "toc": {
   "base_numbering": 1,
   "nav_menu": {},
   "number_sections": true,
   "sideBar": true,
   "skip_h1_title": false,
   "title_cell": "Table of Contents",
   "title_sidebar": "Contents",
   "toc_cell": false,
   "toc_position": {},
   "toc_section_display": true,
   "toc_window_display": false
  },
  "varInspector": {
   "cols": {
    "lenName": 16,
    "lenType": 16,
    "lenVar": 40
   },
   "kernels_config": {
    "python": {
     "delete_cmd_postfix": "",
     "delete_cmd_prefix": "del ",
     "library": "var_list.py",
     "varRefreshCmd": "print(var_dic_list())"
    },
    "r": {
     "delete_cmd_postfix": ") ",
     "delete_cmd_prefix": "rm(",
     "library": "var_list.r",
     "varRefreshCmd": "cat(var_dic_list()) "
    }
   },
   "types_to_exclude": [
    "module",
    "function",
    "builtin_function_or_method",
    "instance",
    "_Feature"
   ],
   "window_display": false
  }
 },
 "nbformat": 4,
 "nbformat_minor": 2
}
