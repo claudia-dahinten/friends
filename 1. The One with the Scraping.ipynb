{
 "cells": [
  {
   "cell_type": "code",
   "execution_count": 1,
   "metadata": {},
   "outputs": [],
   "source": [
    "import requests\n",
    "import bs4\n",
    "from bs4 import BeautifulSoup\n",
    "from tqdm import tqdm_notebook\n",
    "import re\n",
    "import pandas as pd\n",
    "import numpy as np"
   ]
  },
  {
   "cell_type": "code",
   "execution_count": 2,
   "metadata": {},
   "outputs": [],
   "source": [
    "#getting urls for each page\n",
    "urls = []\n",
    "\n",
    "#get the urls for each page\n",
    "for page in tqdm_notebook (range(0,226,25)):\n",
    "    url_page = 'https://transcripts.foreverdreaming.org/viewforum.php?f=845&start={}'.format(page)\n",
    "    \n",
    "    #get the url for each episode \n",
    "    add = 'https://transcripts.foreverdreaming.org/'\n",
    "    r = requests.get(url_page)\n",
    "    new = BeautifulSoup(r.text, 'html.parser')\n",
    "    lines = []\n",
    "    for link in new.find_all('td', class_='topic-titles row2'):\n",
    "        url_new = link.find('a',class_='topictitle')['href']\n",
    "        pattern = re.compile(r'(.(viewtopic.php\\?f=845&t=\\d\\d\\d\\d\\d))')\n",
    "        url_short = re.findall(pattern, url_new)[0][1]\n",
    "        urls.append(add + url_short)"
   ]
  },
  {
   "cell_type": "code",
   "execution_count": 3,
   "metadata": {},
   "outputs": [],
   "source": [
    "#loop through the links for each episode\n",
    "words = []\n",
    "title = []\n",
    "for url in tqdm_notebook(urls):\n",
    "    r = requests.get(url)\n",
    "    new = BeautifulSoup(r.text, 'html.parser')\n",
    "    \n",
    "    #go to each page and pull out the lines\n",
    "    for item in tqdm_notebook(new.find_all('p')):\n",
    "        try:\n",
    "            words.append(item.text)\n",
    "        except:\n",
    "            words.append(np.nan)\n",
    "        #find the season#, episode# and title of each episode\n",
    "        for item in new.find_all('div', {'class':'boxheading'}):\n",
    "            try:\n",
    "                title.append(item.find('h2').text)\n",
    "            except:\n",
    "                title.append(np.nan)"
   ]
  },
  {
   "cell_type": "code",
   "execution_count": 4,
   "metadata": {},
   "outputs": [],
   "source": [
    "#drop missing values creating the title column, assign to variable\n",
    "lines = pd.DataFrame(title).dropna()\n",
    "lines['lines'] = words"
   ]
  },
  {
   "cell_type": "code",
   "execution_count": 5,
   "metadata": {},
   "outputs": [],
   "source": [
    "lines.to_csv('1_lines.csv', index = False)"
   ]
  }
 ],
 "metadata": {
  "kernelspec": {
   "display_name": "Python 3",
   "language": "python",
   "name": "python3"
  },
  "language_info": {
   "codemirror_mode": {
    "name": "ipython",
    "version": 3
   },
   "file_extension": ".py",
   "mimetype": "text/x-python",
   "name": "python",
   "nbconvert_exporter": "python",
   "pygments_lexer": "ipython3",
   "version": "3.7.4"
  },
  "toc": {
   "base_numbering": 1,
   "nav_menu": {},
   "number_sections": true,
   "sideBar": true,
   "skip_h1_title": false,
   "title_cell": "Table of Contents",
   "title_sidebar": "Contents",
   "toc_cell": false,
   "toc_position": {},
   "toc_section_display": true,
   "toc_window_display": false
  },
  "varInspector": {
   "cols": {
    "lenName": 16,
    "lenType": 16,
    "lenVar": 40
   },
   "kernels_config": {
    "python": {
     "delete_cmd_postfix": "",
     "delete_cmd_prefix": "del ",
     "library": "var_list.py",
     "varRefreshCmd": "print(var_dic_list())"
    },
    "r": {
     "delete_cmd_postfix": ") ",
     "delete_cmd_prefix": "rm(",
     "library": "var_list.r",
     "varRefreshCmd": "cat(var_dic_list()) "
    }
   },
   "types_to_exclude": [
    "module",
    "function",
    "builtin_function_or_method",
    "instance",
    "_Feature"
   ],
   "window_display": false
  }
 },
 "nbformat": 4,
 "nbformat_minor": 2
}
